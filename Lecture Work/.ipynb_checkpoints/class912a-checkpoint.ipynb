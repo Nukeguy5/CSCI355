{
 "cells": [
  {
   "cell_type": "markdown",
   "metadata": {},
   "source": [
    "## A little exercise to see whether you understand array manipulations.\n",
    "\n",
    "    Follow the instructions in their correct order\n",
    "    This means do 1 first before 2, and do 3 before 4.\n",
    "    "
   ]
  },
  {
   "cell_type": "markdown",
   "metadata": {},
   "source": [
    "## 1.  Declare a 6x6 array with all zeros\n",
    "   Assign it to variable 'mm'"
   ]
  },
  {
   "cell_type": "code",
   "execution_count": 10,
   "metadata": {},
   "outputs": [
    {
     "data": {
      "text/plain": [
       "array([[0, 0, 0, 0, 0, 0],\n",
       "       [0, 0, 0, 0, 0, 0],\n",
       "       [0, 0, 0, 0, 0, 0],\n",
       "       [0, 0, 0, 0, 0, 0],\n",
       "       [0, 0, 0, 0, 0, 0],\n",
       "       [0, 0, 0, 0, 0, 0]], dtype=int32)"
      ]
     },
     "execution_count": 10,
     "metadata": {},
     "output_type": "execute_result"
    }
   ],
   "source": [
    "import numpy as np\n",
    "\n",
    "r_size = 6\n",
    "c_size = 6\n",
    "mm = np.zeros(shape=(r_size, c_size), dtype='int32')\n",
    "mm"
   ]
  },
  {
   "cell_type": "markdown",
   "metadata": {},
   "source": [
    "## 2. Write '11' diagonally - from top left to bottom right"
   ]
  },
  {
   "cell_type": "code",
   "execution_count": 11,
   "metadata": {},
   "outputs": [
    {
     "data": {
      "text/plain": [
       "array([[11,  0,  0,  0,  0,  0],\n",
       "       [ 0, 11,  0,  0,  0,  0],\n",
       "       [ 0,  0, 11,  0,  0,  0],\n",
       "       [ 0,  0,  0, 11,  0,  0],\n",
       "       [ 0,  0,  0,  0, 11,  0],\n",
       "       [ 0,  0,  0,  0,  0, 11]], dtype=int32)"
      ]
     },
     "execution_count": 11,
     "metadata": {},
     "output_type": "execute_result"
    }
   ],
   "source": [
    "for r in range(r_size):\n",
    "    for c in range(c_size):\n",
    "        if r == c:\n",
    "            mm[r][c] = 11\n",
    "\n",
    "mm"
   ]
  },
  {
   "cell_type": "code",
   "execution_count": null,
   "metadata": {
    "collapsed": true
   },
   "outputs": [],
   "source": []
  },
  {
   "cell_type": "markdown",
   "metadata": {},
   "source": [
    "## 3. Write row of ‘33’ to row index 4\n"
   ]
  },
  {
   "cell_type": "code",
   "execution_count": 12,
   "metadata": {},
   "outputs": [
    {
     "data": {
      "text/plain": [
       "array([[11,  0,  0,  0,  0,  0],\n",
       "       [ 0, 11,  0,  0,  0,  0],\n",
       "       [ 0,  0, 11,  0,  0,  0],\n",
       "       [ 0,  0,  0, 11,  0,  0],\n",
       "       [33, 33, 33, 33, 33, 33],\n",
       "       [ 0,  0,  0,  0,  0, 11]], dtype=int32)"
      ]
     },
     "execution_count": 12,
     "metadata": {},
     "output_type": "execute_result"
    }
   ],
   "source": [
    "for r in range(r_size):\n",
    "    if r == 4:\n",
    "        for c in range(c_size):\n",
    "            mm[r][c] = 33\n",
    "mm"
   ]
  },
  {
   "cell_type": "markdown",
   "metadata": {},
   "source": [
    "## 4. Write ‘44’ to diagonal from bottom left to top right"
   ]
  },
  {
   "cell_type": "code",
   "execution_count": 13,
   "metadata": {},
   "outputs": [
    {
     "data": {
      "text/plain": [
       "array([[11,  0,  0,  0,  0, 44],\n",
       "       [ 0, 11,  0,  0, 44,  0],\n",
       "       [ 0,  0, 11, 44,  0,  0],\n",
       "       [ 0,  0, 44, 11,  0,  0],\n",
       "       [33, 44, 33, 33, 33, 33],\n",
       "       [44,  0,  0,  0,  0, 11]], dtype=int32)"
      ]
     },
     "execution_count": 13,
     "metadata": {},
     "output_type": "execute_result"
    }
   ],
   "source": [
    "for r in range(rsize):\n",
    "    mm[r][-r - 1] = 44\n",
    "\n",
    "mm\n",
    "        "
   ]
  },
  {
   "cell_type": "markdown",
   "metadata": {},
   "source": [
    "## 5. Fill the empty cells with ‘55’\n"
   ]
  },
  {
   "cell_type": "code",
   "execution_count": 14,
   "metadata": {},
   "outputs": [
    {
     "data": {
      "text/plain": [
       "array([[11, 55, 55, 55, 55, 44],\n",
       "       [55, 11, 55, 55, 44, 55],\n",
       "       [55, 55, 11, 44, 55, 55],\n",
       "       [55, 55, 44, 11, 55, 55],\n",
       "       [33, 44, 33, 33, 33, 33],\n",
       "       [44, 55, 55, 55, 55, 11]], dtype=int32)"
      ]
     },
     "execution_count": 14,
     "metadata": {},
     "output_type": "execute_result"
    }
   ],
   "source": [
    "for r in range(r_size):\n",
    "    for c in range(c_size):\n",
    "        if mm[r][c] == 0:\n",
    "            mm[r][c] = 55\n",
    "\n",
    "mm"
   ]
  },
  {
   "cell_type": "code",
   "execution_count": null,
   "metadata": {
    "collapsed": true
   },
   "outputs": [],
   "source": []
  }
 ],
 "metadata": {
  "kernelspec": {
   "display_name": "Python 3",
   "language": "python",
   "name": "python3"
  },
  "language_info": {
   "codemirror_mode": {
    "name": "ipython",
    "version": 3
   },
   "file_extension": ".py",
   "mimetype": "text/x-python",
   "name": "python",
   "nbconvert_exporter": "python",
   "pygments_lexer": "ipython3",
   "version": "3.6.1"
  }
 },
 "nbformat": 4,
 "nbformat_minor": 2
}

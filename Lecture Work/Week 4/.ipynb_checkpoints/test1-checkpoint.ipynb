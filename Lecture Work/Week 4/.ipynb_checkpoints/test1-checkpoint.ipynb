{
 "cells": [
  {
   "cell_type": "markdown",
   "metadata": {},
   "source": [
    "### Your code is the implementation of scheme-3 with two API (Application Programming Interface) to the “programs”.\n",
    "    get_mem(pid, numberOfBlocksOfMemory)\n",
    "    release_mem(pid)\n",
    "    \n",
    "### What changes are required to make your code to support scheme-1 and scheme-2.\n",
    "    Assuming that the \"programs\" still use the two APIs. From the \"programs\" \n",
    "            perspective it does not know what schemes are used.\n",
    "    Changes are reduced to two areas:\n",
    "        What does get_mem() return for scheme-1 and scheme-2.\n",
    "        What changes are required for the memory array and management structures. \n",
    "            Changes like addition of data or removal of data from the management structures\n",
    "            The management structures are considered the 'abstraction' of the three memory schemes.\n",
    "            \n",
    "    Organize your answers into the following questions below. If none then say 'none'. \n"
   ]
  },
  {
   "cell_type": "code",
   "execution_count": null,
   "metadata": {
    "collapsed": true
   },
   "outputs": [],
   "source": []
  },
  {
   "cell_type": "markdown",
   "metadata": {},
   "source": [
    "# Scheme-1\n",
    "\n",
    "    This scheme only allows one job at a time in memory. \n",
    "    \n",
    "    Questions relating to the implementation of Scheme-1 using your current code base memmgr.py, memmgmt.py,etc."
   ]
  },
  {
   "cell_type": "markdown",
   "metadata": {},
   "source": [
    "### What does get_mem() return?"
   ]
  },
  {
   "cell_type": "markdown",
   "metadata": {},
   "source": [
    "It returns the whole array of memory because it only can take one job at a time in memory."
   ]
  },
  {
   "cell_type": "markdown",
   "metadata": {},
   "source": [
    "### Any changes to the code of get_mem?? If none say 'none'"
   ]
  },
  {
   "cell_type": "markdown",
   "metadata": {},
   "source": [
    "Yes, you will need to insert the array returned from scheme-1 into the memory. Right now, get_mem inserts individual items into each row of the memory so we will need to have it insert an entire row rather than individual columns."
   ]
  },
  {
   "cell_type": "markdown",
   "metadata": {},
   "source": [
    "### Any changes to find_free_space() ??"
   ]
  },
  {
   "cell_type": "code",
   "execution_count": null,
   "metadata": {
    "collapsed": true
   },
   "outputs": [],
   "source": [
    "none"
   ]
  },
  {
   "cell_type": "markdown",
   "metadata": {},
   "source": [
    "### What does release_mem() do?"
   ]
  },
  {
   "cell_type": "markdown",
   "metadata": {},
   "source": [
    "It changes each row in memmgmt to \"0\" since only one job at a time can be in scheme-1."
   ]
  },
  {
   "cell_type": "markdown",
   "metadata": {},
   "source": [
    "### Changes to memory array?? If none say \"none\""
   ]
  },
  {
   "cell_type": "markdown",
   "metadata": {},
   "source": [
    "The column size may need to be changed if the array returned from scheme-1 is a different size."
   ]
  },
  {
   "cell_type": "markdown",
   "metadata": {},
   "source": [
    "### Changes to management structures?? If none say \"none\""
   ]
  },
  {
   "cell_type": "code",
   "execution_count": null,
   "metadata": {
    "collapsed": true
   },
   "outputs": [],
   "source": [
    "none"
   ]
  },
  {
   "cell_type": "markdown",
   "metadata": {},
   "source": [
    "### Any other changes??"
   ]
  },
  {
   "cell_type": "code",
   "execution_count": null,
   "metadata": {
    "collapsed": true
   },
   "outputs": [],
   "source": [
    "none"
   ]
  },
  {
   "cell_type": "code",
   "execution_count": null,
   "metadata": {
    "collapsed": true
   },
   "outputs": [],
   "source": [
    "# Scheme-2\n",
    "\n",
    "    This scheme divides the memory into partitions of different sizes. Some of the partition sizes (for this example)\n",
    "    may be 200K, 300K, 400K, etc. Assume for this example, each partition is an integer number of blocks where each block\n",
    "    is the size of a memory array row. \n",
    "    \n",
    "    Questions relating to the implementation of Scheme-2 using your existing code base.\n",
    "    "
   ]
  },
  {
   "cell_type": "markdown",
   "metadata": {},
   "source": [
    "### What does get_mem() return?"
   ]
  },
  {
   "cell_type": "markdown",
   "metadata": {},
   "source": [
    "An array of the view of memory that was inserted or an error."
   ]
  },
  {
   "cell_type": "markdown",
   "metadata": {},
   "source": [
    "### Any changes to the code of get_mem?? If none say 'none'"
   ]
  },
  {
   "cell_type": "markdown",
   "metadata": {},
   "source": [
    "Yes, you will need to insert the array returned from scheme-2 into the memory. Right now, get_mem inserts individual items into each row of the memory so we will need to have it insert an entire row rather than individual columns."
   ]
  },
  {
   "cell_type": "markdown",
   "metadata": {},
   "source": [
    "### Any changes to find_free_space() ??"
   ]
  },
  {
   "cell_type": "markdown",
   "metadata": {},
   "source": [
    "You will have to check each partition size to make sure that the memory needed for the program to run will fit. This means you have to check each partition size until you find an available partition with the closest memory size to let the program run."
   ]
  },
  {
   "cell_type": "markdown",
   "metadata": {},
   "source": [
    "### What does release_mem() do?"
   ]
  },
  {
   "cell_type": "markdown",
   "metadata": {},
   "source": [
    "It disassociates the pid with the memory address. Meaning that the memmgmt will say \"0\" in the index associated with the memory address. It will leave the previous memory in the space until it is overwritten."
   ]
  },
  {
   "cell_type": "markdown",
   "metadata": {},
   "source": [
    "### Changes to memory array?? If none say \"none\""
   ]
  },
  {
   "cell_type": "markdown",
   "metadata": {},
   "source": [
    "The column size may need to be changed if the array returned from scheme-2 is a different size."
   ]
  },
  {
   "cell_type": "markdown",
   "metadata": {},
   "source": [
    "### Changes to management structures?? If none say \"none\""
   ]
  },
  {
   "cell_type": "markdown",
   "metadata": {},
   "source": [
    "In the management structure you have to not have partition sizes in scheme-2 for scheme-3. If you are importing scheme-2 into scheme-3 then you will need to remove the partition sizes from the management structures so you can have the memory be allocated rather than fixed. "
   ]
  },
  {
   "cell_type": "markdown",
   "metadata": {},
   "source": [
    "### Any other changes??"
   ]
  },
  {
   "cell_type": "code",
   "execution_count": null,
   "metadata": {
    "collapsed": true
   },
   "outputs": [],
   "source": [
    "none"
   ]
  },
  {
   "cell_type": "code",
   "execution_count": null,
   "metadata": {
    "collapsed": true
   },
   "outputs": [],
   "source": []
  }
 ],
 "metadata": {
  "kernelspec": {
   "display_name": "Python 3",
   "language": "python",
   "name": "python3"
  },
  "language_info": {
   "codemirror_mode": {
    "name": "ipython",
    "version": 3
   },
   "file_extension": ".py",
   "mimetype": "text/x-python",
   "name": "python",
   "nbconvert_exporter": "python",
   "pygments_lexer": "ipython3",
   "version": "3.6.1"
  }
 },
 "nbformat": 4,
 "nbformat_minor": 2
}

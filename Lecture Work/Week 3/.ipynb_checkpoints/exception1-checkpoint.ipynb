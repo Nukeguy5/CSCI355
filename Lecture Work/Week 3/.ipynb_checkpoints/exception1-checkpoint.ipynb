{
 "cells": [
  {
   "cell_type": "markdown",
   "metadata": {},
   "source": [
    "## Handling errors through Exception handling"
   ]
  },
  {
   "cell_type": "code",
   "execution_count": 1,
   "metadata": {
    "collapsed": true
   },
   "outputs": [],
   "source": [
    "import numpy as np"
   ]
  },
  {
   "cell_type": "code",
   "execution_count": 2,
   "metadata": {
    "collapsed": true
   },
   "outputs": [],
   "source": [
    "nn = np.zeros(shape=(4,3),dtype='int8')"
   ]
  },
  {
   "cell_type": "code",
   "execution_count": 3,
   "metadata": {},
   "outputs": [
    {
     "data": {
      "text/plain": [
       "array([[0, 0, 0],\n",
       "       [0, 0, 0],\n",
       "       [0, 0, 0],\n",
       "       [0, 0, 0]], dtype=int8)"
      ]
     },
     "execution_count": 3,
     "metadata": {},
     "output_type": "execute_result"
    }
   ],
   "source": [
    "nn"
   ]
  },
  {
   "cell_type": "markdown",
   "metadata": {},
   "source": [
    "### Do a for loop to deliberately go out of range"
   ]
  },
  {
   "cell_type": "code",
   "execution_count": 4,
   "metadata": {},
   "outputs": [
    {
     "name": "stdout",
     "output_type": "stream",
     "text": [
      "0\n",
      "0\n",
      "0\n",
      "0\n"
     ]
    }
   ],
   "source": [
    "for r in range(0, 4):\n",
    "    print(nn[r,1])"
   ]
  },
  {
   "cell_type": "code",
   "execution_count": null,
   "metadata": {
    "collapsed": true
   },
   "outputs": [],
   "source": []
  },
  {
   "cell_type": "markdown",
   "metadata": {},
   "source": [
    "### Change the code above to trap that exception"
   ]
  },
  {
   "cell_type": "code",
   "execution_count": null,
   "metadata": {
    "collapsed": true
   },
   "outputs": [],
   "source": []
  },
  {
   "cell_type": "code",
   "execution_count": null,
   "metadata": {
    "collapsed": true
   },
   "outputs": [],
   "source": [
    "## Create our own custom error"
   ]
  },
  {
   "cell_type": "code",
   "execution_count": 5,
   "metadata": {
    "collapsed": true
   },
   "outputs": [],
   "source": [
    "class MyError(Exception):\n",
    "    pass"
   ]
  },
  {
   "cell_type": "code",
   "execution_count": 6,
   "metadata": {},
   "outputs": [
    {
     "ename": "MyError",
     "evalue": "",
     "output_type": "error",
     "traceback": [
      "\u001b[0;31m---------------------------------------------------------------------------\u001b[0m",
      "\u001b[0;31mMyError\u001b[0m                                   Traceback (most recent call last)",
      "\u001b[0;32m<ipython-input-6-d96ac87428c7>\u001b[0m in \u001b[0;36m<module>\u001b[0;34m()\u001b[0m\n\u001b[0;32m----> 1\u001b[0;31m \u001b[0;32mraise\u001b[0m \u001b[0mMyError\u001b[0m\u001b[0;34m\u001b[0m\u001b[0m\n\u001b[0m",
      "\u001b[0;31mMyError\u001b[0m: "
     ]
    }
   ],
   "source": [
    "raise MyError"
   ]
  },
  {
   "cell_type": "code",
   "execution_count": 7,
   "metadata": {
    "collapsed": true
   },
   "outputs": [],
   "source": [
    "def afunction():\n",
    "    x = 4\n",
    "    raise MyError"
   ]
  },
  {
   "cell_type": "code",
   "execution_count": null,
   "metadata": {
    "collapsed": true
   },
   "outputs": [],
   "source": []
  },
  {
   "cell_type": "code",
   "execution_count": 8,
   "metadata": {},
   "outputs": [
    {
     "name": "stdout",
     "output_type": "stream",
     "text": [
      "MyError detected\n"
     ]
    }
   ],
   "source": [
    "try:\n",
    "    afunction()\n",
    "except MyError:\n",
    "    print('MyError detected')"
   ]
  },
  {
   "cell_type": "code",
   "execution_count": 9,
   "metadata": {},
   "outputs": [
    {
     "name": "stdout",
     "output_type": "stream",
     "text": [
      "Help on module traceback:\n",
      "\n",
      "NAME\n",
      "    traceback - Extract, format and print information about Python stack traces.\n",
      "\n",
      "MODULE REFERENCE\n",
      "    https://docs.python.org/3.6/library/traceback\n",
      "    \n",
      "    The following documentation is automatically generated from the Python\n",
      "    source files.  It may be incomplete, incorrect or include features that\n",
      "    are considered implementation detail and may vary between Python\n",
      "    implementations.  When in doubt, consult the module reference at the\n",
      "    location listed above.\n",
      "\n",
      "CLASSES\n",
      "    builtins.list(builtins.object)\n",
      "        StackSummary\n",
      "    builtins.object\n",
      "        FrameSummary\n",
      "        TracebackException\n",
      "    \n",
      "    class FrameSummary(builtins.object)\n",
      "     |  A single frame from a traceback.\n",
      "     |  \n",
      "     |  - :attr:`filename` The filename for the frame.\n",
      "     |  - :attr:`lineno` The line within filename for the frame that was\n",
      "     |    active when the frame was captured.\n",
      "     |  - :attr:`name` The name of the function or method that was executing\n",
      "     |    when the frame was captured.\n",
      "     |  - :attr:`line` The text from the linecache module for the\n",
      "     |    of code that was running when the frame was captured.\n",
      "     |  - :attr:`locals` Either None if locals were not supplied, or a dict\n",
      "     |    mapping the name to the repr() of the variable.\n",
      "     |  \n",
      "     |  Methods defined here:\n",
      "     |  \n",
      "     |  __eq__(self, other)\n",
      "     |      Return self==value.\n",
      "     |  \n",
      "     |  __getitem__(self, pos)\n",
      "     |  \n",
      "     |  __init__(self, filename, lineno, name, *, lookup_line=True, locals=None, line=None)\n",
      "     |      Construct a FrameSummary.\n",
      "     |      \n",
      "     |      :param lookup_line: If True, `linecache` is consulted for the source\n",
      "     |          code line. Otherwise, the line will be looked up when first needed.\n",
      "     |      :param locals: If supplied the frame locals, which will be captured as\n",
      "     |          object representations.\n",
      "     |      :param line: If provided, use this instead of looking up the line in\n",
      "     |          the linecache.\n",
      "     |  \n",
      "     |  __iter__(self)\n",
      "     |  \n",
      "     |  __repr__(self)\n",
      "     |      Return repr(self).\n",
      "     |  \n",
      "     |  ----------------------------------------------------------------------\n",
      "     |  Data descriptors defined here:\n",
      "     |  \n",
      "     |  filename\n",
      "     |  \n",
      "     |  line\n",
      "     |  \n",
      "     |  lineno\n",
      "     |  \n",
      "     |  locals\n",
      "     |  \n",
      "     |  name\n",
      "     |  \n",
      "     |  ----------------------------------------------------------------------\n",
      "     |  Data and other attributes defined here:\n",
      "     |  \n",
      "     |  __hash__ = None\n",
      "    \n",
      "    class StackSummary(builtins.list)\n",
      "     |  A stack of frames.\n",
      "     |  \n",
      "     |  Method resolution order:\n",
      "     |      StackSummary\n",
      "     |      builtins.list\n",
      "     |      builtins.object\n",
      "     |  \n",
      "     |  Methods defined here:\n",
      "     |  \n",
      "     |  format(self)\n",
      "     |      Format the stack ready for printing.\n",
      "     |      \n",
      "     |      Returns a list of strings ready for printing.  Each string in the\n",
      "     |      resulting list corresponds to a single frame from the stack.\n",
      "     |      Each string ends in a newline; the strings may contain internal\n",
      "     |      newlines as well, for those items with source text lines.\n",
      "     |      \n",
      "     |      For long sequences of the same frame and line, the first few\n",
      "     |      repetitions are shown, followed by a summary line stating the exact\n",
      "     |      number of further repetitions.\n",
      "     |  \n",
      "     |  ----------------------------------------------------------------------\n",
      "     |  Class methods defined here:\n",
      "     |  \n",
      "     |  extract(frame_gen, *, limit=None, lookup_lines=True, capture_locals=False) from builtins.type\n",
      "     |      Create a StackSummary from a traceback or stack object.\n",
      "     |      \n",
      "     |      :param frame_gen: A generator that yields (frame, lineno) tuples to\n",
      "     |          include in the stack.\n",
      "     |      :param limit: None to include all frames or the number of frames to\n",
      "     |          include.\n",
      "     |      :param lookup_lines: If True, lookup lines for each frame immediately,\n",
      "     |          otherwise lookup is deferred until the frame is rendered.\n",
      "     |      :param capture_locals: If True, the local variables from each frame will\n",
      "     |          be captured as object representations into the FrameSummary.\n",
      "     |  \n",
      "     |  from_list(a_list) from builtins.type\n",
      "     |      Create a StackSummary from a simple list of tuples.\n",
      "     |      \n",
      "     |      This method supports the older Python API. Each tuple should be a\n",
      "     |      4-tuple with (filename, lineno, name, line) elements.\n",
      "     |  \n",
      "     |  ----------------------------------------------------------------------\n",
      "     |  Data descriptors defined here:\n",
      "     |  \n",
      "     |  __dict__\n",
      "     |      dictionary for instance variables (if defined)\n",
      "     |  \n",
      "     |  __weakref__\n",
      "     |      list of weak references to the object (if defined)\n",
      "     |  \n",
      "     |  ----------------------------------------------------------------------\n",
      "     |  Methods inherited from builtins.list:\n",
      "     |  \n",
      "     |  __add__(self, value, /)\n",
      "     |      Return self+value.\n",
      "     |  \n",
      "     |  __contains__(self, key, /)\n",
      "     |      Return key in self.\n",
      "     |  \n",
      "     |  __delitem__(self, key, /)\n",
      "     |      Delete self[key].\n",
      "     |  \n",
      "     |  __eq__(self, value, /)\n",
      "     |      Return self==value.\n",
      "     |  \n",
      "     |  __ge__(self, value, /)\n",
      "     |      Return self>=value.\n",
      "     |  \n",
      "     |  __getattribute__(self, name, /)\n",
      "     |      Return getattr(self, name).\n",
      "     |  \n",
      "     |  __getitem__(...)\n",
      "     |      x.__getitem__(y) <==> x[y]\n",
      "     |  \n",
      "     |  __gt__(self, value, /)\n",
      "     |      Return self>value.\n",
      "     |  \n",
      "     |  __iadd__(self, value, /)\n",
      "     |      Implement self+=value.\n",
      "     |  \n",
      "     |  __imul__(self, value, /)\n",
      "     |      Implement self*=value.\n",
      "     |  \n",
      "     |  __init__(self, /, *args, **kwargs)\n",
      "     |      Initialize self.  See help(type(self)) for accurate signature.\n",
      "     |  \n",
      "     |  __iter__(self, /)\n",
      "     |      Implement iter(self).\n",
      "     |  \n",
      "     |  __le__(self, value, /)\n",
      "     |      Return self<=value.\n",
      "     |  \n",
      "     |  __len__(self, /)\n",
      "     |      Return len(self).\n",
      "     |  \n",
      "     |  __lt__(self, value, /)\n",
      "     |      Return self<value.\n",
      "     |  \n",
      "     |  __mul__(self, value, /)\n",
      "     |      Return self*value.n\n",
      "     |  \n",
      "     |  __ne__(self, value, /)\n",
      "     |      Return self!=value.\n",
      "     |  \n",
      "     |  __new__(*args, **kwargs) from builtins.type\n",
      "     |      Create and return a new object.  See help(type) for accurate signature.\n",
      "     |  \n",
      "     |  __repr__(self, /)\n",
      "     |      Return repr(self).\n",
      "     |  \n",
      "     |  __reversed__(...)\n",
      "     |      L.__reversed__() -- return a reverse iterator over the list\n",
      "     |  \n",
      "     |  __rmul__(self, value, /)\n",
      "     |      Return self*value.\n",
      "     |  \n",
      "     |  __setitem__(self, key, value, /)\n",
      "     |      Set self[key] to value.\n",
      "     |  \n",
      "     |  __sizeof__(...)\n",
      "     |      L.__sizeof__() -- size of L in memory, in bytes\n",
      "     |  \n",
      "     |  append(...)\n",
      "     |      L.append(object) -> None -- append object to end\n",
      "     |  \n",
      "     |  clear(...)\n",
      "     |      L.clear() -> None -- remove all items from L\n",
      "     |  \n",
      "     |  copy(...)\n",
      "     |      L.copy() -> list -- a shallow copy of L\n",
      "     |  \n",
      "     |  count(...)\n",
      "     |      L.count(value) -> integer -- return number of occurrences of value\n",
      "     |  \n",
      "     |  extend(...)\n",
      "     |      L.extend(iterable) -> None -- extend list by appending elements from the iterable\n",
      "     |  \n",
      "     |  index(...)\n",
      "     |      L.index(value, [start, [stop]]) -> integer -- return first index of value.\n",
      "     |      Raises ValueError if the value is not present.\n",
      "     |  \n",
      "     |  insert(...)\n",
      "     |      L.insert(index, object) -- insert object before index\n",
      "     |  \n",
      "     |  pop(...)\n",
      "     |      L.pop([index]) -> item -- remove and return item at index (default last).\n",
      "     |      Raises IndexError if list is empty or index is out of range.\n",
      "     |  \n",
      "     |  remove(...)\n",
      "     |      L.remove(value) -> None -- remove first occurrence of value.\n",
      "     |      Raises ValueError if the value is not present.\n",
      "     |  \n",
      "     |  reverse(...)\n",
      "     |      L.reverse() -- reverse *IN PLACE*\n",
      "     |  \n",
      "     |  sort(...)\n",
      "     |      L.sort(key=None, reverse=False) -> None -- stable sort *IN PLACE*\n",
      "     |  \n",
      "     |  ----------------------------------------------------------------------\n",
      "     |  Data and other attributes inherited from builtins.list:\n",
      "     |  \n",
      "     |  __hash__ = None\n",
      "    \n",
      "    class TracebackException(builtins.object)\n",
      "     |  An exception ready for rendering.\n",
      "     |  \n",
      "     |  The traceback module captures enough attributes from the original exception\n",
      "     |  to this intermediary form to ensure that no references are held, while\n",
      "     |  still being able to fully print or format it.\n",
      "     |  \n",
      "     |  Use `from_exception` to create TracebackException instances from exception\n",
      "     |  objects, or the constructor to create TracebackException instances from\n",
      "     |  individual components.\n",
      "     |  \n",
      "     |  - :attr:`__cause__` A TracebackException of the original *__cause__*.\n",
      "     |  - :attr:`__context__` A TracebackException of the original *__context__*.\n",
      "     |  - :attr:`__suppress_context__` The *__suppress_context__* value from the\n",
      "     |    original exception.\n",
      "     |  - :attr:`stack` A `StackSummary` representing the traceback.\n",
      "     |  - :attr:`exc_type` The class of the original traceback.\n",
      "     |  - :attr:`filename` For syntax errors - the filename where the error\n",
      "     |    occurred.\n",
      "     |  - :attr:`lineno` For syntax errors - the linenumber where the error\n",
      "     |    occurred.\n",
      "     |  - :attr:`text` For syntax errors - the text where the error\n",
      "     |    occurred.\n",
      "     |  - :attr:`offset` For syntax errors - the offset into the text where the\n",
      "     |    error occurred.\n",
      "     |  - :attr:`msg` For syntax errors - the compiler error message.\n",
      "     |  \n",
      "     |  Methods defined here:\n",
      "     |  \n",
      "     |  __eq__(self, other)\n",
      "     |      Return self==value.\n",
      "     |  \n",
      "     |  __init__(self, exc_type, exc_value, exc_traceback, *, limit=None, lookup_lines=True, capture_locals=False, _seen=None)\n",
      "     |      Initialize self.  See help(type(self)) for accurate signature.\n",
      "     |  \n",
      "     |  __str__(self)\n",
      "     |      Return str(self).\n",
      "     |  \n",
      "     |  format(self, *, chain=True)\n",
      "     |      Format the exception.\n",
      "     |      \n",
      "     |      If chain is not *True*, *__cause__* and *__context__* will not be formatted.\n",
      "     |      \n",
      "     |      The return value is a generator of strings, each ending in a newline and\n",
      "     |      some containing internal newlines. `print_exception` is a wrapper around\n",
      "     |      this method which just prints the lines to a file.\n",
      "     |      \n",
      "     |      The message indicating which exception occurred is always the last\n",
      "     |      string in the output.\n",
      "     |  \n",
      "     |  format_exception_only(self)\n",
      "     |      Format the exception part of the traceback.\n",
      "     |      \n",
      "     |      The return value is a generator of strings, each ending in a newline.\n",
      "     |      \n",
      "     |      Normally, the generator emits a single string; however, for\n",
      "     |      SyntaxError exceptions, it emites several lines that (when\n",
      "     |      printed) display detailed information about where the syntax\n",
      "     |      error occurred.\n",
      "     |      \n",
      "     |      The message indicating which exception occurred is always the last\n",
      "     |      string in the output.\n",
      "     |  \n",
      "     |  ----------------------------------------------------------------------\n",
      "     |  Class methods defined here:\n",
      "     |  \n",
      "     |  from_exception(exc, *args, **kwargs) from builtins.type\n",
      "     |      Create a TracebackException from an exception.\n",
      "     |  \n",
      "     |  ----------------------------------------------------------------------\n",
      "     |  Data descriptors defined here:\n",
      "     |  \n",
      "     |  __dict__\n",
      "     |      dictionary for instance variables (if defined)\n",
      "     |  \n",
      "     |  __weakref__\n",
      "     |      list of weak references to the object (if defined)\n",
      "     |  \n",
      "     |  ----------------------------------------------------------------------\n",
      "     |  Data and other attributes defined here:\n",
      "     |  \n",
      "     |  __hash__ = None\n",
      "\n",
      "FUNCTIONS\n",
      "    clear_frames(tb)\n",
      "        Clear all references to local variables in the frames of a traceback.\n",
      "    \n",
      "    extract_stack(f=None, limit=None)\n",
      "        Extract the raw traceback from the current stack frame.\n",
      "        \n",
      "        The return value has the same format as for extract_tb().  The\n",
      "        optional 'f' and 'limit' arguments have the same meaning as for\n",
      "        print_stack().  Each item in the list is a quadruple (filename,\n",
      "        line number, function name, text), and the entries are in order\n",
      "        from oldest to newest stack frame.\n",
      "    \n",
      "    extract_tb(tb, limit=None)\n",
      "        Return list of up to limit pre-processed entries from traceback.\n",
      "        \n",
      "        This is useful for alternate formatting of stack traces.  If\n",
      "        'limit' is omitted or None, all entries are extracted.  A\n",
      "        pre-processed stack trace entry is a quadruple (filename, line\n",
      "        number, function name, text) representing the information that is\n",
      "        usually printed for a stack trace.  The text is a string with\n",
      "        leading and trailing whitespace stripped; if the source is not\n",
      "        available it is None.\n",
      "    \n",
      "    format_exc(limit=None, chain=True)\n",
      "        Like print_exc() but return a string.\n",
      "    \n",
      "    format_exception(etype, value, tb, limit=None, chain=True)\n",
      "        Format a stack trace and the exception information.\n",
      "        \n",
      "        The arguments have the same meaning as the corresponding arguments\n",
      "        to print_exception().  The return value is a list of strings, each\n",
      "        ending in a newline and some containing internal newlines.  When\n",
      "        these lines are concatenated and printed, exactly the same text is\n",
      "        printed as does print_exception().\n",
      "    \n",
      "    format_exception_only(etype, value)\n",
      "        Format the exception part of a traceback.\n",
      "        \n",
      "        The arguments are the exception type and value such as given by\n",
      "        sys.last_type and sys.last_value. The return value is a list of\n",
      "        strings, each ending in a newline.\n",
      "        \n",
      "        Normally, the list contains a single string; however, for\n",
      "        SyntaxError exceptions, it contains several lines that (when\n",
      "        printed) display detailed information about where the syntax\n",
      "        error occurred.\n",
      "        \n",
      "        The message indicating which exception occurred is always the last\n",
      "        string in the list.\n",
      "    \n",
      "    format_list(extracted_list)\n",
      "        Format a list of traceback entry tuples for printing.\n",
      "        \n",
      "        Given a list of tuples as returned by extract_tb() or\n",
      "        extract_stack(), return a list of strings ready for printing.\n",
      "        Each string in the resulting list corresponds to the item with the\n",
      "        same index in the argument list.  Each string ends in a newline;\n",
      "        the strings may contain internal newlines as well, for those items\n",
      "        whose source text line is not None.\n",
      "    \n",
      "    format_stack(f=None, limit=None)\n",
      "        Shorthand for 'format_list(extract_stack(f, limit))'.\n",
      "    \n",
      "    format_tb(tb, limit=None)\n",
      "        A shorthand for 'format_list(extract_tb(tb, limit))'.\n",
      "    \n",
      "    print_exc(limit=None, file=None, chain=True)\n",
      "        Shorthand for 'print_exception(*sys.exc_info(), limit, file)'.\n",
      "    \n",
      "    print_exception(etype, value, tb, limit=None, file=None, chain=True)\n",
      "        Print exception up to 'limit' stack trace entries from 'tb' to 'file'.\n",
      "        \n",
      "        This differs from print_tb() in the following ways: (1) if\n",
      "        traceback is not None, it prints a header \"Traceback (most recent\n",
      "        call last):\"; (2) it prints the exception type and value after the\n",
      "        stack trace; (3) if type is SyntaxError and value has the\n",
      "        appropriate format, it prints the line where the syntax error\n",
      "        occurred with a caret on the next line indicating the approximate\n",
      "        position of the error.\n",
      "    \n",
      "    print_last(limit=None, file=None, chain=True)\n",
      "        This is a shorthand for 'print_exception(sys.last_type,\n",
      "        sys.last_value, sys.last_traceback, limit, file)'.\n",
      "    \n",
      "    print_stack(f=None, limit=None, file=None)\n",
      "        Print a stack trace from its invocation point.\n",
      "        \n",
      "        The optional 'f' argument can be used to specify an alternate\n",
      "        stack frame at which to start. The optional 'limit' and 'file'\n",
      "        arguments have the same meaning as for print_exception().\n",
      "    \n",
      "    print_tb(tb, limit=None, file=None)\n",
      "        Print up to 'limit' stack trace entries from the traceback 'tb'.\n",
      "        \n",
      "        If 'limit' is omitted or None, all entries are printed.  If 'file'\n",
      "        is omitted or None, the output goes to sys.stderr; otherwise\n",
      "        'file' should be an open file or file-like object with a write()\n",
      "        method.\n",
      "    \n",
      "    walk_stack(f)\n",
      "        Walk a stack yielding the frame and line number for each frame.\n",
      "        \n",
      "        This will follow f.f_back from the given frame. If no frame is given, the\n",
      "        current stack is used. Usually used with StackSummary.extract.\n",
      "    \n",
      "    walk_tb(tb)\n",
      "        Walk a traceback yielding the frame and line number for each frame.\n",
      "        \n",
      "        This will follow tb.tb_next (and thus is in the opposite order to\n",
      "        walk_stack). Usually used with StackSummary.extract.\n",
      "\n",
      "DATA\n",
      "    __all__ = ['extract_stack', 'extract_tb', 'format_exception', 'format_...\n",
      "\n",
      "FILE\n",
      "    /anaconda/lib/python3.6/traceback.py\n",
      "\n",
      "\n"
     ]
    }
   ],
   "source": [
    "import traceback\n",
    "help(traceback)"
   ]
  },
  {
   "cell_type": "markdown",
   "metadata": {},
   "source": [
    "### using traceback"
   ]
  },
  {
   "cell_type": "code",
   "execution_count": 10,
   "metadata": {},
   "outputs": [
    {
     "name": "stdout",
     "output_type": "stream",
     "text": [
      "MyError detected\n"
     ]
    },
    {
     "name": "stderr",
     "output_type": "stream",
     "text": [
      "Traceback (most recent call last):\n",
      "  File \"<ipython-input-10-0d768c12b1ee>\", line 3, in <module>\n",
      "    afunction()\n",
      "  File \"<ipython-input-7-37e05266cfb6>\", line 3, in afunction\n",
      "    raise MyError\n",
      "MyError\n"
     ]
    }
   ],
   "source": [
    "import traceback\n",
    "try:\n",
    "    afunction()\n",
    "except MyError:\n",
    "    print('MyError detected')\n",
    "    traceback.print_exc()"
   ]
  },
  {
   "cell_type": "code",
   "execution_count": null,
   "metadata": {
    "collapsed": true
   },
   "outputs": [],
   "source": []
  },
  {
   "cell_type": "code",
   "execution_count": null,
   "metadata": {
    "collapsed": true
   },
   "outputs": [],
   "source": []
  },
  {
   "cell_type": "code",
   "execution_count": null,
   "metadata": {
    "collapsed": true
   },
   "outputs": [],
   "source": []
  }
 ],
 "metadata": {
  "kernelspec": {
   "display_name": "Python 3",
   "language": "python",
   "name": "python3"
  },
  "language_info": {
   "codemirror_mode": {
    "name": "ipython",
    "version": 3
   },
   "file_extension": ".py",
   "mimetype": "text/x-python",
   "name": "python",
   "nbconvert_exporter": "python",
   "pygments_lexer": "ipython3",
   "version": "3.6.1"
  }
 },
 "nbformat": 4,
 "nbformat_minor": 2
}
